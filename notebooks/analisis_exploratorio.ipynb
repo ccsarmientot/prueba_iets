{
 "cells": [
  {
   "cell_type": "code",
   "execution_count": null,
   "id": "42d80af4",
   "metadata": {},
   "outputs": [],
   "source": [
    "import sys\n",
    "import os\n",
    "\n",
    "# Obtiene la ruta absoluta del directorio 'scripts' relativo a la ubicación del notebook\n",
    "ruta_scripts = os.path.abspath(os.path.join('..', 'scripts'))\n",
    "\n",
    "# Añade la ruta al sys.path si aún no está\n",
    "if ruta_scripts not in sys.path:\n",
    "    sys.path.append(ruta_scripts)\n",
    "\n",
    "from scripts.utils import preprocess_read_reps_data"
   ]
  },
  {
   "cell_type": "code",
   "execution_count": 1,
   "id": "6ae576c0",
   "metadata": {},
   "outputs": [
    {
     "ename": "ModuleNotFoundError",
     "evalue": "No module named 'scripts.utils'",
     "output_type": "error",
     "traceback": [
      "\u001b[1;31m---------------------------------------------------------------------------\u001b[0m",
      "\u001b[1;31mModuleNotFoundError\u001b[0m                       Traceback (most recent call last)",
      "Cell \u001b[1;32mIn[1], line 1\u001b[0m\n\u001b[1;32m----> 1\u001b[0m \u001b[38;5;28;01mfrom\u001b[39;00m \u001b[38;5;21;01mscripts\u001b[39;00m\u001b[38;5;21;01m.\u001b[39;00m\u001b[38;5;21;01mutils\u001b[39;00m \u001b[38;5;28;01mimport\u001b[39;00m create_dir\n",
      "\u001b[1;31mModuleNotFoundError\u001b[0m: No module named 'scripts.utils'"
     ]
    }
   ],
   "source": [
    "from scripts.utils import create_dir"
   ]
  },
  {
   "cell_type": "code",
   "execution_count": null,
   "id": "83593730",
   "metadata": {},
   "outputs": [],
   "source": [
    "import pandas as pd"
   ]
  },
  {
   "cell_type": "code",
   "execution_count": null,
   "id": "ce732c57",
   "metadata": {},
   "outputs": [],
   "source": [
    "# scripts/csv_a_sqlite.py\n",
    "\n",
    "import csv\n",
    "import sqlite3\n",
    "import os\n",
    "\n",
    "def crear_conexion(db_file):\n",
    "    \"\"\"Crea una conexión a la base de datos SQLite especificada por db_file.\n",
    "    :param db_file: Ruta del archivo de la base de datos.\n",
    "    :return: Objeto de conexión o None.\n",
    "    \"\"\"\n",
    "    conn = None\n",
    "    try:\n",
    "        conn = sqlite3.connect(db_file)\n",
    "        return conn\n",
    "    except sqlite3.Error as e:\n",
    "        print(f\"Error al conectar a la base de datos: {e}\")\n",
    "    return conn\n",
    "\n",
    "def crear_tabla_desde_csv(conn, csv_filepath, table_name):\n",
    "    \"\"\"Crea una tabla en la base de datos SQLite a partir de un archivo CSV.\n",
    "    :param conn: Objeto de conexión a la base de datos.\n",
    "    :param csv_filepath: Ruta del archivo CSV.\n",
    "    :param table_name: Nombre de la tabla a crear.\n",
    "    \"\"\"\n",
    "    try:\n",
    "        with open(csv_filepath, 'r', newline='', encoding='utf-8') as csvfile:\n",
    "            reader = csv.reader(csvfile)\n",
    "            header = next(reader)  # Leer la primera fila como encabezado\n",
    "\n",
    "            # Crear la sentencia SQL para crear la tabla\n",
    "            columns = ', '.join([f'\"{col}\" TEXT' for col in header])\n",
    "            create_table_sql = f\"CREATE TABLE IF NOT EXISTS {table_name} ({columns});\"\n",
    "\n",
    "            cursor = conn.cursor()\n",
    "            cursor.execute(create_table_sql)\n",
    "            conn.commit()\n",
    "            print(f\"Tabla '{table_name}' creada exitosamente.\")\n",
    "\n",
    "            # Insertar los datos del CSV en la tabla\n",
    "            placeholders = ', '.join(['?' for _ in header])\n",
    "            insert_sql = f\"INSERT INTO {table_name} VALUES ({placeholders});\"\n",
    "            for row in reader:\n",
    "                cursor.execute(insert_sql, row)\n",
    "            conn.commit()\n",
    "            print(f\"Datos del archivo '{os.path.basename(csv_filepath)}' insertados en la tabla '{table_name}'.\")\n",
    "\n",
    "    except FileNotFoundError:\n",
    "        print(f\"Error: El archivo CSV '{csv_filepath}' no fue encontrado.\")\n",
    "    except sqlite3.Error as e:\n",
    "        print(f\"Error de SQLite al crear o insertar en la tabla '{table_name}': {e}\")\n",
    "    except Exception as e:\n",
    "        print(f\"Ocurrió un error inesperado: {e}\")\n",
    "\n",
    "def main():\n",
    "    \"\"\"Función principal para procesar los archivos CSV y crear la base de datos.\"\"\"\n",
    "    ruta_carpeta_csv = 'data/raw/archivos_csv_originales/'\n",
    "    ruta_db = 'data/processed/base_de_datos.db'\n",
    "\n",
    "    # Crear la carpeta 'data/processed' si no existe\n",
    "    os.makedirs(os.path.dirname(ruta_db), exist_ok=True)\n",
    "\n",
    "    conn = crear_conexion(ruta_db)\n",
    "    if conn is not None:\n",
    "        archivos_csv = [f for f in os.listdir(ruta_carpeta_csv) if f.endswith('.csv')]\n",
    "        if not archivos_csv:\n",
    "            print(f\"No se encontraron archivos CSV en la carpeta '{ruta_carpeta_csv}'.\")\n",
    "        else:\n",
    "            for archivo_csv in archivos_csv:\n",
    "                ruta_completa_csv = os.path.join(ruta_carpeta_csv, archivo_csv)\n",
    "                nombre_tabla = os.path.splitext(archivo_csv)[0]  # Usar el nombre del archivo sin la extensión como nombre de la tabla\n",
    "                crear_tabla_desde_csv(conn, ruta_completa_csv, nombre_tabla)\n",
    "        conn.close()\n",
    "        print(\"Proceso de carga de CSV a SQLite completado.\")\n",
    "    else:\n",
    "        print(\"No se pudo crear la conexión a la base de datos.\")\n",
    "\n",
    "if __name__ == '__main__':\n",
    "    main()"
   ]
  }
 ],
 "metadata": {
  "kernelspec": {
   "display_name": "Python 3",
   "language": "python",
   "name": "python3"
  },
  "language_info": {
   "codemirror_mode": {
    "name": "ipython",
    "version": 3
   },
   "file_extension": ".py",
   "mimetype": "text/x-python",
   "name": "python",
   "nbconvert_exporter": "python",
   "pygments_lexer": "ipython3",
   "version": "3.11.4"
  }
 },
 "nbformat": 4,
 "nbformat_minor": 5
}
